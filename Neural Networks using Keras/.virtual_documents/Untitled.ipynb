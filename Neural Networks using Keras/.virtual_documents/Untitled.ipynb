import pandas as pd
import numpy as np
import warnings
warnings.simplefilter('ignore', FutureWarning)

import keras
from keras.models import Sequential
from keras.layers import Dense
from keras.layers import Input
from keras.utils import to_categorical
from sklearn.model_selection import train_test_split
from sklearn.metrics import mean_squared_error


df = pd.read_csv('https://s3-api.us-geo.objectstorage.softlayer.net/cf-courses-data/CognitiveClass/DL0101EN/labs/data/concrete_data.csv')
df.head()


df.shape


df.columns


df.describe().round(3)


df.corr().round(3)


X = df.drop(['Strength'], axis=1)
Y = df['Strength']


n_col = X.shape[1]





def regression_model():
    model = Sequential()
    model.add(Input(shape=(n_col,)))
    model.add(Dense(10, activation='relu'))
    model.add(Dense(1))
    model.compile(optimizer = 'adam', loss = 'mean_squared_error')
    return model


model = regression_model()


loss = []
for i in range(50):
    x_train, x_test, y_train, y_test = train_test_split(X, Y, test_size = 0.3, random_state = 42)
    model.fit(x_train, y_train, epochs=50, verbose=0)
    predict = model.predict(x_test)
    loss.append(mean_squared_error(y_test, predict))
    print(f"Batch {i + 1} Processed")


print(f"Mean of Loss is {np.mean(loss)}")
print(f"Standard Deviation of Loss is {np.std(loss)}")





X_norm = (X - X.mean())/X.std()


loss_n = []
for i in range(50):
    x_train, x_test, y_train, y_test = train_test_split(X_norm, Y, test_size = 0.3, random_state = 42)
    model.fit(x_train, y_train, epochs=50, verbose=0)
    predict = model.predict(x_test)
    loss_n.append(mean_squared_error(y_test, predict))
    print(f"Batch {i + 1} Processed")


print(f"Mean of Loss is {np.mean(loss_n)}")
print(f"Standard Deviation of Loss is {np.std(loss_n)}")


print(f"Difference of Loss Mean is {np.mean(loss) - np.mean(loss_n)}")
print(f"Difference of Standard Deviation is {np.std(loss) - np.std(loss_n)}")





loss_n3 = []
for i in range(50):
    x_train, x_test, y_train, y_test = train_test_split(X_norm, Y, test_size = 0.3, random_state = 42)
    model.fit(x_train, y_train, epochs=100, verbose=0)
    predict = model.predict(x_test)
    loss_n3.append(mean_squared_error(y_test, predict))
    print(f"Batch {i + 1} Processed")


print(f"Mean of Loss is {np.mean(loss_n3)}")
print(f"Standard Deviation of Loss is {np.std(loss_n3)}")





def regression_model():
    model = Sequential()
    model.add(Input(shape=(n_col,)))
    model.add(Dense(10, activation='relu'))
    model.add(Dense(10, activation='relu'))
    model.add(Dense(10, activation='relu'))
    model.add(Dense(1))
    model.compile(optimizer = 'adam', loss = 'mean_squared_error')
    return model


model2 = regression_model()


loss_n4 = []
for i in range(50):
    x_train, x_test, y_train, y_test = train_test_split(X_norm, Y, test_size = 0.3, random_state = 42)
    model2.fit(x_train, y_train, epochs=50, verbose=0)
    predict = model2.predict(x_test)
    loss_n.append(mean_squared_error(y_test, predict))
    print(f"Batch {i + 1} Processed")


print(f"Mean of Loss is {np.mean(loss_n4)}")
print(f"Standard Deviation of Loss is {np.std(loss_n4)}")
