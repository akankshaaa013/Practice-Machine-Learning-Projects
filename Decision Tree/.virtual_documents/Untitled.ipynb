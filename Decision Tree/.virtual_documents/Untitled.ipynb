import pandas as pd
import numpy as np
import matplotlib.pyplot as plt
%matplotlib inline

import seaborn as sns
sns.set_style('whitegrid')

import warnings
warnings.filterwarnings('ignore')
import requests

from sklearn import preprocessing
from sklearn.model_selection import train_test_split
from sklearn.tree import DecisionTreeClassifier
from sklearn import metrics
from sklearn import tree


def download(url, filename):
    response = requests.get(url)
    if response.status_code == 200:
        with open(filename, "wb") as f:
            f.write(response.content)
    else:
        print(f"Failed to download the file: {response.status_code}")


path= 'https://cf-courses-data.s3.us.cloud-object-storage.appdomain.cloud/IBMDeveloperSkillsNetwork-ML0101EN-SkillsNetwork/labs/Module%203/data/drug200.csv'
fn = "drug.csv"
download(path, fn)


df = pd.read_csv(fn)
df.head()


df.shape


df.info()


df.describe(include='all').head()


df.columns


df2 = df.groupby(['BP','Drug']).mean('Age')
df2


X = df[['Age', 'Sex', 'BP', 'Cholesterol', 'Na_to_K']].values
X[:5]


Y = df['Drug'].values
Y[:5]


df['Drug'].value_counts().index.values


encoder_sex = preprocessing.LabelEncoder()
encoder_sex.fit(df['Sex'].value_counts().index.values)
X[:,1] = encoder_sex.transform(X[:,1])


encoder_BP = preprocessing.LabelEncoder()
encoder_BP.fit(df['BP'].value_counts().index.values)
X[:,2] = encoder_BP.transform(X[:,2])


encoder_Cholesterol = preprocessing.LabelEncoder()
encoder_Cholesterol.fit(df['Cholesterol'].value_counts().index.values)
X[:,3] = encoder_Cholesterol.transform(X[:,3])


X[:5]


train_X, test_X, train_Y, test_Y = train_test_split(X, Y, test_size=0.25, random_state=632)


print(train_X.shape, train_Y.shape)


dtree = DecisionTreeClassifier(criterion = 'entropy', max_depth = 4)


dtree.fit(train_X, train_Y)


prediction = dtree.predict(test_X)


print("Prediction", prediction[:8])
print("Actual Truth", test_Y[:8])


metrics.accuracy_score(test_Y, prediction)


!pip install pydotplus
!pip install graphviz


tree.plot_tree(dtree)
plt.show()


metrics.confusion_matrix(test_Y, prediction)


print(metrics.classification_report(test_Y, prediction))



