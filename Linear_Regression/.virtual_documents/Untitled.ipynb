import pandas as pd
import pylab as pl
import numpy as np

import matplotlib.pyplot as plt
%matplotlib inline

import seaborn as sns
sns.set_style('whitegrid')

import warnings
warnings.filterwarnings('ignore')


path= "https://cf-courses-data.s3.us.cloud-object-storage.appdomain.cloud/IBMDeveloperSkillsNetwork-ML0101EN-SkillsNetwork/labs/Module%202/data/FuelConsumptionCo2.csv"


import requests

def download(url, filename):
    response = requests.get(url)
    if response.status_code == 200:
        with open(filename, "wb") as f:
            f.write(response.content)
    else:
        print(f"Failed to download the file: {response.status_code}")


download(path, "FuelConsumption.csv")
path="FuelConsumption.csv"


df = pd.read_csv(path)


df.head()





df.describe().round(3)


cdf = df[['ENGINESIZE','CYLINDERS', 'FUELCONSUMPTION_CITY','FUELCONSUMPTION_HWY','CO2EMISSIONS']]
cdf.head(5)


cols = ['ENGINESIZE','CYLINDERS', 'FUELCONSUMPTION_CITY','FUELCONSUMPTION_HWY','CO2EMISSIONS']
viz = cdf[cols]
viz.hist();
plt.tight_layout()


plt.scatter(cdf.FUELCONSUMPTION_CITY, cdf.CO2EMISSIONS, color='blue');
plt.xlabel("Fuel Consumption");
plt.ylabel("CO2 Emission");


plt.scatter(cdf.CYLINDERS, cdf.CO2EMISSIONS, color="#213ffa");
plt.xlabel("Number of Cylinders");
plt.ylabel("CO2 Emission");


msk = np.random.rand(len(df)) < 0.8
train = cdf[msk]
test = cdf[~msk]


print("Training Set")
print(train.head())
print()
print("Testing Set")
print(test.head())


plt.scatter(train.ENGINESIZE, train.CO2EMISSIONS,  color='blue')
plt.xlabel("Engine size")
plt.ylabel("Emission");


from sklearn import linear_model
from sklearn.metrics import r2_score


regr = linear_model.LinearRegression()


train_x = np.asanyarray(train[['CYLINDERS','ENGINESIZE','FUELCONSUMPTION_CITY','FUELCONSUMPTION_HWY']])
train_y = np.asanyarray(train[['CO2EMISSIONS']])


regr.fit(train_x, train_y)


print('Coefficient: ', regr.coef_)
print('Intercept: ', regr.intercept_)


# Predict the CO2 emissions using the model
test_x = np.asanyarray(test[['CYLINDERS','ENGINESIZE','FUELCONSUMPTION_CITY','FUELCONSUMPTION_HWY']])
test_y = np.asanyarray(test[['CO2EMISSIONS']])
predictions = regr.predict(test_x)


plt.scatter(test.CO2EMISSIONS, predictions, color='blue')
plt.plot([test.CO2EMISSIONS.min(), test.CO2EMISSIONS.max()], [test.CO2EMISSIONS.min(), test.CO2EMISSIONS.max()], '-r')
plt.xlabel("Actual Emissions")
plt.ylabel("Predicted Emissions");


print("R2-sore: %.3f"% r2_score(test_y, predictions))


print("Mean Squared Error (MSE) : %.2f" % np.mean((predictions - test_y) ** 2))

# Explained variance score: 1 is perfect prediction
print('Variance score: %.2f' % regr.score(test_x, test_y))






