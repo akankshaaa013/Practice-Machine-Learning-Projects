import numpy as np
import pandas as pd
import matplotlib.pyplot as plt
%matplotlib inline

import requests
import time

from sklearn.preprocessing import normalize, StandardScaler
from sklearn.model_selection import train_test_split
from sklearn.utils.class_weight import compute_sample_weight
from sklearn.metrics import roc_auc_score
from sklearn.tree import DecisionTreeClassifier
from sklearn.svm import LinearSVC

import warnings
warnings.filterwarnings('ignore')


url= "https://cf-courses-data.s3.us.cloud-object-storage.appdomain.cloud/IBMDeveloperSkillsNetwork-ML0101EN-SkillsNetwork/labs/Module%203/data/creditcard.csv"
df = pd.read_csv(url)
df.head()


print(f"There are {df.shape[1]} columns and {df.shape[0]} rows in the dataset")


n_replica = 10
df = pd.DataFrame(np.repeat(df.values, n_replica, axis=0), columns=df.columns)
df.head()


df = df.sample(frac=1).reset_index(drop=True)


label = df.Class.unique()
cnt = df.Class.value_counts().values

fig, ax = plt.subplots()
ax.pie(cnt, labels=label, autopct='%1.3f%%')
ax.set_title('Target Variable Value Counts')
plt.tight_layout()


plt.hist(df.Amount.values, 6, histtype='bar', facecolor='g');
plt.tight_layout()


print("Minimum amount value is ", np.min(df.Amount.values))
print("Maximum amount value is ", np.max(df.Amount.values))
print("90% of the transactions have an amount less or equal than ", np.percentile(df.Amount.values, 90))


df.iloc[:,1:30] = StandardScaler().fit_transform(df.iloc[:,1:30])
df2 = df.values


X = df2[:, 1:30]
Y = df2[:, 30]


X = normalize(X, norm="l1")


print("X.shape: ", X.shape)
print("Y.shape: ", Y.shape)


train_x, test_x, train_y, test_y = train_test_split(X, Y, test_size = 0.3, random_state = 3648)
print("Shape of training set: ", train_x.shape)
print("Shape of testing set: ", test_x.shape)


w_train = compute_sample_weight('balanced', train_y)


dtree = DecisionTreeClassifier(random_state = 213, max_depth = 4)


dtree.fit(train_x, train_y, sample_weight=w_train)


prediction = dtree.predict_proba(test_x)[:,1]


print("The Receiver Operating Characteristic (ROC) curve and the Area Under the ROC curve (AUC) are: ", roc_auc_score(test_y, prediction))


svm = LinearSVC(class_weight='balanced', random_state=7332, loss='hinge', fit_intercept=False)
svm.fit(train_x, train_y)


pred = svm.decision_function(test_x)


from sklearn.metrics import hinge_loss


hinge_loss(test_y, pred)






